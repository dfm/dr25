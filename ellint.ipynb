{
 "cells": [
  {
   "cell_type": "code",
   "execution_count": 1,
   "metadata": {},
   "outputs": [],
   "source": [
    "%matplotlib inline"
   ]
  },
  {
   "cell_type": "code",
   "execution_count": 2,
   "metadata": {},
   "outputs": [],
   "source": [
    "import numpy as np\n",
    "import matplotlib.pyplot as plt"
   ]
  },
  {
   "cell_type": "code",
   "execution_count": 47,
   "metadata": {},
   "outputs": [],
   "source": [
    "def ellpic_bulirsch(n, k):\n",
    "    kc = np.sqrt(1.-k*k)\n",
    "    p = np.sqrt(n + 1.)\n",
    "    m0 = 1.\n",
    "    c = 1.\n",
    "    d = 1./p\n",
    "    e = kc\n",
    "\n",
    "    for nit in range(10000):\n",
    "        f = c\n",
    "        c = d/p + c\n",
    "        g = e/p\n",
    "        d = 2.*(f*g + d)\n",
    "        p = g + p\n",
    "        g = m0\n",
    "        m0 = kc + m0\n",
    "        if(np.abs(1.-kc/g) > 1.0e-8):\n",
    "            kc = 2.*np.sqrt(e);\n",
    "            e = kc*m0;\n",
    "        else:\n",
    "            return 0.5*np.pi*(c*m0+d)/(m0*(m0+p))\n",
    "    return 0.0\n",
    "\n",
    "def ellec(k):\n",
    "    m1 = 1.0 - k*k\n",
    "    a1 = 0.44325141463\n",
    "    a2 = 0.06260601220\n",
    "    a3 = 0.04757383546\n",
    "    a4 = 0.01736506451\n",
    "    b1 = 0.24998368310\n",
    "    b2 = 0.09200180037\n",
    "    b3 = 0.04069697526\n",
    "    b4 = 0.00526449639\n",
    "    ee1 = 1.0 + m1*(a1 + m1*(a2 + m1*(a3 + m1*a4)))\n",
    "    ee2 = m1*(b1 + m1*(b2 + m1*(b3 + m1*b4)))*np.log(1.0/m1)\n",
    "    ellec = ee1 + ee2\n",
    "    return ellec\n",
    "\n",
    "def ellk(k):\n",
    "    m1 = 1.0 - k*k\n",
    "    a0 = 1.38629436112\n",
    "    a1 = 0.09666344259\n",
    "    a2 = 0.03590092383\n",
    "    a3 = 0.03742563713\n",
    "    a4 = 0.01451196212\n",
    "    b0 = 0.5\n",
    "    b1 = 0.12498593597\n",
    "    b2 = 0.06880248576\n",
    "    b3 = 0.03328355346\n",
    "    b4 = 0.00441787012\n",
    "    ek1 = a0 + m1*(a1 + m1*(a2 + m1*(a3 + m1*a4)))\n",
    "    ek2 = (b0 + m1*(b1 + m1*(b2 + m1*(b3 + m1*b4))))*np.log(m1)\n",
    "    ellk = ek1 - ek2\n",
    "    return ellk"
   ]
  },
  {
   "cell_type": "code",
   "execution_count": 79,
   "metadata": {},
   "outputs": [],
   "source": [
    "def ellint_1(k):\n",
    "    kc = np.sqrt(1.0 - k * k)\n",
    "    m = 1.0\n",
    "    for i in range(10000):\n",
    "        h = m\n",
    "        m += kc\n",
    "        if (np.abs(h - kc) / h <= 1e-14):\n",
    "            print(i)\n",
    "            break\n",
    "        kc = np.sqrt(h * kc)\n",
    "        m *= 0.5\n",
    "    return np.pi / m\n",
    "\n",
    "def ellint_2(k):\n",
    "    b = 1.0 - k * k\n",
    "    kc = np.sqrt(b)\n",
    "    m = 1.0\n",
    "    c = 1.0\n",
    "    a = b + 1.0\n",
    "    for i in range(10000):\n",
    "        b = 2.0 * (c * kc + b)\n",
    "        c = a\n",
    "        m0 = m\n",
    "        m += kc\n",
    "        a += b / m\n",
    "        if (np.abs(m0 - kc) / m0 <= 1e-14):\n",
    "            print(i)\n",
    "            break\n",
    "        kc = 2.0 * np.sqrt(kc * m0)\n",
    "    return 0.25 * np.pi * a / m\n",
    "\n",
    "def ellint_3 (n, k):\n",
    "    kc = np.sqrt(1.0 - k * k)\n",
    "    p = np.sqrt(1.0-n)\n",
    "    m0 = 1.0\n",
    "    c = 1.0\n",
    "    d = 1.0 / p\n",
    "    e = kc\n",
    "    for i in range(10000):\n",
    "        f = c\n",
    "        c += d / p\n",
    "        g = e / p\n",
    "        d = 2.0 * (f * g + d)\n",
    "        p = g + p\n",
    "        g = m0\n",
    "        m0 = kc + m0\n",
    "        if (np.abs(1.0 - kc / g) <= 1e-14):\n",
    "            print(i)\n",
    "            break\n",
    "        kc = 2.0 * np.sqrt(e)\n",
    "        e = kc * m0\n",
    "    return 0.5*np.pi * (c * m0 + d) / (m0 * (m0 + p))"
   ]
  },
  {
   "cell_type": "code",
   "execution_count": 80,
   "metadata": {},
   "outputs": [
    {
     "name": "stdout",
     "output_type": "stream",
     "text": [
      "3\n"
     ]
    },
    {
     "data": {
      "text/plain": [
       "-6.015733244879584e-09"
      ]
     },
     "execution_count": 80,
     "metadata": {},
     "output_type": "execute_result"
    }
   ],
   "source": [
    "ellint_1(-0.1)-ellk(-0.1)"
   ]
  },
  {
   "cell_type": "code",
   "execution_count": 81,
   "metadata": {},
   "outputs": [
    {
     "name": "stdout",
     "output_type": "stream",
     "text": [
      "5\n"
     ]
    },
    {
     "data": {
      "text/plain": [
       "-1.5651656193327312e-08"
      ]
     },
     "execution_count": 81,
     "metadata": {},
     "output_type": "execute_result"
    }
   ],
   "source": [
    "ellint_2(-0.99)-ellec(-0.99)"
   ]
  },
  {
   "cell_type": "code",
   "execution_count": 82,
   "metadata": {},
   "outputs": [
    {
     "name": "stdout",
     "output_type": "stream",
     "text": [
      "3\n"
     ]
    },
    {
     "data": {
      "text/plain": [
       "-0.16864019501635874"
      ]
     },
     "execution_count": 82,
     "metadata": {},
     "output_type": "execute_result"
    }
   ],
   "source": [
    "ellpic_bulirsch(0.1, 0.4) - ellint_3(0.1, 0.4)"
   ]
  },
  {
   "cell_type": "code",
   "execution_count": 83,
   "metadata": {},
   "outputs": [
    {
     "name": "stdout",
     "output_type": "stream",
     "text": [
      "3\n",
      "3\n",
      "3\n"
     ]
    },
    {
     "data": {
      "text/plain": [
       "(0.9824425337808432, 0.41393833384822704)"
      ]
     },
     "execution_count": 83,
     "metadata": {},
     "output_type": "execute_result"
    }
   ],
   "source": [
    "n = 0.1\n",
    "k = 0.4\n",
    "Kk = ellint_1(k)\n",
    "Ek = ellint_2(k)\n",
    "Pnk = ellint_3(n, k)\n",
    "k2 = k * k\n",
    "n2 = n * n\n",
    "n_deriv = 0.5*(Ek + (Kk*(k2-n) + Pnk*(n2-k2))/n) / (n-1.0) / (k2-n)\n",
    "k_deriv = -k * (Ek / (k2 - 1.0) + Pnk) / (k2-n)\n",
    "n_deriv, k_deriv"
   ]
  },
  {
   "cell_type": "code",
   "execution_count": 84,
   "metadata": {},
   "outputs": [
    {
     "name": "stdout",
     "output_type": "stream",
     "text": [
      "3\n",
      "3\n",
      "3\n",
      "3\n"
     ]
    },
    {
     "data": {
      "text/plain": [
       "(0.9824425338700314, 0.4139383339096802)"
      ]
     },
     "execution_count": 84,
     "metadata": {},
     "output_type": "execute_result"
    }
   ],
   "source": [
    "eps = 1e-5\n",
    "\n",
    "0.5*(ellint_3(n+eps, k) - ellint_3(n-eps, k))/eps, 0.5*(ellint_3(n, k+eps) - ellint_3(n, k-eps))/eps"
   ]
  },
  {
   "cell_type": "code",
   "execution_count": null,
   "metadata": {},
   "outputs": [],
   "source": []
  }
 ],
 "metadata": {
  "kernelspec": {
   "display_name": "Python 3",
   "language": "python",
   "name": "python3"
  },
  "language_info": {
   "codemirror_mode": {
    "name": "ipython",
    "version": 3
   },
   "file_extension": ".py",
   "mimetype": "text/x-python",
   "name": "python",
   "nbconvert_exporter": "python",
   "pygments_lexer": "ipython3",
   "version": "3.6.1"
  }
 },
 "nbformat": 4,
 "nbformat_minor": 2
}
