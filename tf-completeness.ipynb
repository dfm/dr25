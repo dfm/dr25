{
 "cells": [
  {
   "cell_type": "code",
   "execution_count": 1,
   "metadata": {},
   "outputs": [],
   "source": [
    "%matplotlib inline"
   ]
  },
  {
   "cell_type": "code",
   "execution_count": 2,
   "metadata": {},
   "outputs": [
    {
     "name": "stderr",
     "output_type": "stream",
     "text": [
      "/Users/dforeman/anaconda/lib/python3.6/site-packages/h5py/__init__.py:36: FutureWarning: Conversion of the second argument of issubdtype from `float` to `np.floating` is deprecated. In future, it will be treated as `np.float64 == np.dtype(float).type`.\n",
      "  from ._conv import register_converters as _register_converters\n"
     ]
    }
   ],
   "source": [
    "import os\n",
    "import numpy as np\n",
    "import pandas as pd\n",
    "from tqdm import tqdm\n",
    "import tensorflow as tf\n",
    "from astropy.io import ascii, fits\n",
    "import matplotlib.pyplot as plt\n",
    "\n",
    "from itertools import combinations_with_replacement\n",
    "\n",
    "from dr25 import dr25"
   ]
  },
  {
   "cell_type": "markdown",
   "metadata": {},
   "source": [
    "Start by defining some useful quantities:"
   ]
  },
  {
   "cell_type": "code",
   "execution_count": 3,
   "metadata": {},
   "outputs": [],
   "source": [
    "session = tf.Session()\n",
    "durations = np.array([1.5, 2.0, 2.5, 3.0, 3.5, 4.5, 5.0, 6.0, 7.5, 9.0, 10.5, 12.0, 12.5, 15.0])\n",
    "cdpp_cols = [\"rrmscdpp01p5\", \"rrmscdpp02p0\", \"rrmscdpp02p5\", \"rrmscdpp03p0\",\n",
    "             \"rrmscdpp03p5\", \"rrmscdpp04p5\", \"rrmscdpp05p0\", \"rrmscdpp06p0\",\n",
    "             \"rrmscdpp07p5\", \"rrmscdpp09p0\", \"rrmscdpp10p5\", \"rrmscdpp12p0\",\n",
    "             \"rrmscdpp12p5\", \"rrmscdpp15p0\"]"
   ]
  },
  {
   "cell_type": "markdown",
   "metadata": {},
   "source": [
    "Load the stellar properties table and select a subset."
   ]
  },
  {
   "cell_type": "code",
   "execution_count": 24,
   "metadata": {},
   "outputs": [
    {
     "name": "stdout",
     "output_type": "stream",
     "text": [
      "selected 54837 stars\n"
     ]
    }
   ],
   "source": [
    "berger = pd.read_csv(\"data/DR2PapTable1.txt\", sep=\"&\")\n",
    "stlr = ascii.read(\"data/q1_q17_dr25_stellar.txt\").to_pandas()\n",
    "stlr = pd.merge(berger, stlr, left_on=\"KIC\", right_on=\"kepid\", suffixes=(\"\", \"_stlr\"))\n",
    "\n",
    "# Only select dwarfs\n",
    "m = (4200 <= stlr.teff) & (stlr.teff <= 6100)\n",
    "m &= stlr.rad <= 1.15\n",
    "m &= stlr[\"class\\\\\\\\\"] == \"0\\\\\\\\\"\n",
    "\n",
    "# Only include stars with sufficient data coverage.\n",
    "m &= stlr.dataspan > 365.25*2.\n",
    "m &= stlr.dutycycle > 0.6\n",
    "m &= stlr.rrmscdpp07p5 <= 1000.\n",
    "\n",
    "# Only select stars with logg estimates.\n",
    "m &= np.isfinite(stlr.logg)\n",
    "\n",
    "stlr = pd.DataFrame(stlr[m])\n",
    "print(\"selected {0} stars\".format(len(stlr)))"
   ]
  },
  {
   "cell_type": "markdown",
   "metadata": {},
   "source": [
    "Load the pixel level injections and Robovetter classifications"
   ]
  },
  {
   "cell_type": "code",
   "execution_count": 55,
   "metadata": {},
   "outputs": [
    {
     "name": "stdout",
     "output_type": "stream",
     "text": [
      "selected 8170 pixel-level injections\n",
      "average robovetter efficiency: 93.8%\n"
     ]
    }
   ],
   "source": [
    "# Load the injections\n",
    "inj = ascii.read(\"data/kplr_dr25_inj1_plti.txt\").to_pandas()\n",
    "inj[\"kepid\"] = inj.KIC_ID.astype(int)\n",
    "m = inj.i_depth > 0.0\n",
    "m &= inj.i_period < 100\n",
    "m &= inj.EB_injection < 1.0\n",
    "m &= inj.Offset_from_source < 1.0\n",
    "inj = inj[m]\n",
    "\n",
    "# Load the robovetter results\n",
    "robo = ascii.read(\"data/kplr_dr25_inj1_tces.txt\").to_pandas()\n",
    "\n",
    "# Only select the injections in our subsample\n",
    "inj = pd.merge(inj, stlr, on=\"kepid\", suffixes=(\"\", \"_stlr\"))\n",
    "inj = pd.merge(inj, robo, how=\"left\", suffixes=(\"\", \"_robo\"), on=\"TCE_ID\")\n",
    "m1 = inj.Recovered > 0\n",
    "m2 = inj.Disp == \"PC\"\n",
    "robo_eff = m2.sum() / m1.sum()\n",
    "\n",
    "print(\"selected {0} pixel-level injections\".format(len(inj)))\n",
    "print(\"average robovetter efficiency: {0:.1f}%\".format(100*robo_eff))"
   ]
  },
  {
   "cell_type": "markdown",
   "metadata": {},
   "source": [
    "Find the best fit quadratic limb darkening approximation for each injection"
   ]
  },
  {
   "cell_type": "code",
   "execution_count": 47,
   "metadata": {},
   "outputs": [],
   "source": [
    "c = np.array(inj[[\"limbdark_coeff1\", \"limbdark_coeff2\", \"limbdark_coeff3\", \"limbdark_coeff4\"]], dtype=float)\n",
    "b = np.array(inj.i_b)\n",
    "ror = np.array(inj.i_ror)\n",
    "r = np.clip(b, 1e-5, 1-1e-5)\n",
    "mu = np.sqrt(1.0 - r**2)\n",
    "u = np.array([1.0 - mu, (1.0 - mu)**2])\n",
    "w = np.array([1.0 - np.sqrt(mu), 1.0 - mu, 1.0 - mu**1.5, 1.0 - mu**2]).T\n",
    "f = np.sum(c * w, axis=1) / np.sum(u**2, axis=0)\n",
    "g1, g2 = f[None, :] * u"
   ]
  },
  {
   "cell_type": "markdown",
   "metadata": {},
   "source": [
    "Build the completeness model in TF"
   ]
  },
  {
   "cell_type": "code",
   "execution_count": 48,
   "metadata": {},
   "outputs": [
    {
     "name": "stdout",
     "output_type": "stream",
     "text": [
      "Calibrating completeness model...\n",
      "29.841978011538767\n",
      "INFO:tensorflow:Optimization terminated with:\n",
      "  Message: b'CONVERGENCE: REL_REDUCTION_OF_F_<=_FACTR*EPSMCH'\n",
      "  Objective function value: 28.642368\n",
      "  Number of iterations: 13\n",
      "  Number of functions evaluations: 16\n",
      "28.642367652113215\n"
     ]
    }
   ],
   "source": [
    "T = tf.float64\n",
    "\n",
    "R_star = tf.placeholder(T, (None,), name=\"R_star\")\n",
    "logg_star = tf.placeholder(T, (None,), name=\"logg_star\")\n",
    "gamma_star = tf.placeholder(T, (None, 2), name=\"gamma_star\")\n",
    "cdpp_star = tf.placeholder(T, (None, len(durations)), name=\"cdpp_star\")\n",
    "dataspan_star = tf.placeholder(T, (None,), name=\"dataspan_star\")\n",
    "dutycycle_star = tf.placeholder(T, (None,), name=\"dutycycle_star\")\n",
    "R_pl = tf.placeholder(T, (None,), name=\"R_pl\")\n",
    "P_pl = tf.placeholder(T, (None,), name=\"P_pl\")\n",
    "b_pl = tf.placeholder(T, (None,), name=\"b_pl\")\n",
    "\n",
    "# Completeness model\n",
    "comp_pars = tf.Variable([0.7, 10.0, -0.1], dtype=T, name=\"comp_pars\")\n",
    "recovered = tf.placeholder(T, (None,), name=\"recovered\")\n",
    "\n",
    "# Estimate the transit properties\n",
    "ror_pl = R_pl / R_star\n",
    "M_star = 10.0**(logg_star-4.437) * tf.square(R_star)\n",
    "a_pl = 215.0 * M_star**(1.0/3.0) * (P_pl/365.25)**(2.0/3.0)\n",
    "a_pl_sin_i = tf.sqrt(tf.square(a_pl) - tf.square(R_star * b_pl))\n",
    "tau_pl = P_pl * tf.asin(R_star * tf.sqrt((1.0+ror_pl)**2-b_pl**2) / a_pl_sin_i) / np.pi\n",
    "\n",
    "tau_pl = (P_pl*24.0) / 4.0 * R_star / a_pl\n",
    "depth = (1.0 - dr25.quad(gamma_star[:, 0], gamma_star[:, 1], ror_pl, b_pl)) * 1e6\n",
    "\n",
    "# Interpolate the CDPP grid\n",
    "cdpp = dr25.interp(tau_pl, durations, cdpp_star)\n",
    "\n",
    "# Estimate the MES\n",
    "ntran = dataspan_star * dutycycle_star / P_pl\n",
    "mes = tf.sqrt(ntran) * depth / cdpp\n",
    "\n",
    "# Completeness as a function of MES\n",
    "pdet = comp_pars[0] / (1.0 + tf.exp(-(mes - comp_pars[1]) * tf.exp(-comp_pars[2])))\n",
    "pdet = tf.clip_by_value(pdet, 0.0, 1.0)\n",
    "\n",
    "# Fit completeness parameters to injections\n",
    "chi2 = tf.norm(tf.where(mes < 15.0, pdet - recovered, tf.zeros_like(pdet)))\n",
    "opt = tf.contrib.opt.ScipyOptimizerInterface(chi2, [comp_pars])\n",
    "\n",
    "session.run(tf.global_variables_initializer())\n",
    "\n",
    "feed = {\n",
    "    R_star: np.array(inj.rad),\n",
    "    logg_star: np.array(inj.logg),\n",
    "    gamma_star: np.vstack((g1, g2)).T,\n",
    "    cdpp_star: np.array(inj[cdpp_cols]),\n",
    "    dataspan_star: np.array(inj.dataspan),\n",
    "    dutycycle_star: np.array(inj.dutycycle),\n",
    "    R_pl: np.array(inj.i_ror * inj.rad),\n",
    "    P_pl: np.array(inj.i_period),\n",
    "    b_pl: np.array(inj.i_b),\n",
    "    recovered: np.array(((inj.Recovered > 0) & (inj.Disp == \"PC\")), dtype=float),\n",
    "}\n",
    "\n",
    "print(\"Calibrating completeness model...\")\n",
    "print(session.run(chi2, feed_dict=feed))\n",
    "opt.minimize(session, feed_dict=feed)\n",
    "print(session.run(chi2, feed_dict=feed))"
   ]
  },
  {
   "cell_type": "code",
   "execution_count": null,
   "metadata": {},
   "outputs": [],
   "source": []
  },
  {
   "cell_type": "code",
   "execution_count": null,
   "metadata": {},
   "outputs": [],
   "source": []
  },
  {
   "cell_type": "code",
   "execution_count": null,
   "metadata": {},
   "outputs": [],
   "source": []
  },
  {
   "cell_type": "code",
   "execution_count": null,
   "metadata": {},
   "outputs": [],
   "source": []
  },
  {
   "cell_type": "code",
   "execution_count": null,
   "metadata": {},
   "outputs": [],
   "source": []
  }
 ],
 "metadata": {
  "kernelspec": {
   "display_name": "Python 3",
   "language": "python",
   "name": "python3"
  },
  "language_info": {
   "codemirror_mode": {
    "name": "ipython",
    "version": 3
   },
   "file_extension": ".py",
   "mimetype": "text/x-python",
   "name": "python",
   "nbconvert_exporter": "python",
   "pygments_lexer": "ipython3",
   "version": "3.6.1"
  }
 },
 "nbformat": 4,
 "nbformat_minor": 2
}
